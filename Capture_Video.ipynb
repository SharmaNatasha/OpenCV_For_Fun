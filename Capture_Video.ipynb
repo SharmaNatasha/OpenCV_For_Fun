{
 "cells": [
  {
   "cell_type": "code",
   "execution_count": 12,
   "metadata": {},
   "outputs": [],
   "source": [
    "#Import necessary libraries\n",
    "import cv2, time"
   ]
  },
  {
   "cell_type": "markdown",
   "metadata": {},
   "source": [
    "# Video capturing from camera"
   ]
  },
  {
   "cell_type": "markdown",
   "metadata": {},
   "source": [
    "VideoCapture - Parameters\n",
    "  \n",
    "    filename – name of the opened video file (eg. video.avi) or image sequence (eg. img_%02d.jpg, \n",
    "    which will read samples like img_00.jpg, img_01.jpg, img_02.jpg, ...)\n",
    "    \n",
    "    device – id of the opened video capturing device (i.e. a camera index). If there is a single\n",
    "    camera connected, just pass 0."
   ]
  },
  {
   "cell_type": "code",
   "execution_count": 15,
   "metadata": {},
   "outputs": [],
   "source": [
    "#Use VideoCapture to capture the video\n",
    "video = cv2.VideoCapture(0)\n",
    "while True:\n",
    "    \n",
    "    #Grabs, decodes and returns the next video frame.\n",
    "    check, frame = video.read()\n",
    "    \n",
    "    #print(check)\n",
    "    #print(frame)\n",
    "    #time.sleep(3)\n",
    "    \n",
    "    #show the video frame\n",
    "    cv2.imshow(\"Capturing\",frame)\n",
    "    \n",
    "    #wait_key = cv2.waitKey(2000) --> Larger number slow down the video capturing\n",
    "    \n",
    "    wait_key = cv2.waitKey(1) #set to 1 --> this will capture the video smoothly.\n",
    "    \n",
    "    #Stop the video by pressing x from your keyboard\n",
    "    if wait_key == ord('x'):  \n",
    "        break\n",
    "    \n",
    "video.release()\n",
    "cv2.destroyAllWindows()"
   ]
  }
 ],
 "metadata": {
  "kernelspec": {
   "display_name": "Python 3",
   "language": "python",
   "name": "python3"
  },
  "language_info": {
   "codemirror_mode": {
    "name": "ipython",
    "version": 3
   },
   "file_extension": ".py",
   "mimetype": "text/x-python",
   "name": "python",
   "nbconvert_exporter": "python",
   "pygments_lexer": "ipython3",
   "version": "3.6.4"
  }
 },
 "nbformat": 4,
 "nbformat_minor": 2
}
