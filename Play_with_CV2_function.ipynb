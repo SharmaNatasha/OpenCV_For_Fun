{
 "cells": [
  {
   "cell_type": "markdown",
   "metadata": {},
   "source": [
    "# Load, Display, Resize and Write Image"
   ]
  },
  {
   "cell_type": "code",
   "execution_count": null,
   "metadata": {},
   "outputs": [],
   "source": [
    "#Import OpenCV library\n",
    "import cv2"
   ]
  },
  {
   "cell_type": "code",
   "execution_count": 3,
   "metadata": {},
   "outputs": [],
   "source": [
    "#Read the image - imread takes two parameters\n",
    "# 1) Image location and name\n",
    "# 2) Color scale - 0 --> B&W(grey scale) or 1 --> RGB (coloured) or -1 --> HSV(coloured)\n",
    "img = cv2.imread(\"galaxy.jpg\",0)"
   ]
  },
  {
   "cell_type": "code",
   "execution_count": 4,
   "metadata": {},
   "outputs": [
    {
     "name": "stdout",
     "output_type": "stream",
     "text": [
      "<class 'numpy.ndarray'>\n"
     ]
    }
   ],
   "source": [
    "#Check the type of image - The image is stored in Matrix form\n",
    "print(type(img))"
   ]
  },
  {
   "cell_type": "code",
   "execution_count": 5,
   "metadata": {},
   "outputs": [
    {
     "name": "stdout",
     "output_type": "stream",
     "text": [
      "[[14 18 14 ... 20 15 16]\n",
      " [12 16 12 ... 20 15 17]\n",
      " [12 13 16 ... 14 24 21]\n",
      " ...\n",
      " [ 0  0  0 ...  5  8 14]\n",
      " [ 0  0  0 ...  2  3  9]\n",
      " [ 1  1  1 ...  1  1  3]]\n"
     ]
    }
   ],
   "source": [
    "#Print the matrix/array of the image\n",
    "print(img)"
   ]
  },
  {
   "cell_type": "code",
   "execution_count": 6,
   "metadata": {},
   "outputs": [
    {
     "name": "stdout",
     "output_type": "stream",
     "text": [
      "(1485, 990)\n"
     ]
    }
   ],
   "source": [
    "#check the shape of image array\n",
    "print(img.shape)"
   ]
  },
  {
   "cell_type": "code",
   "execution_count": 7,
   "metadata": {},
   "outputs": [],
   "source": [
    "#Show the actual image\n",
    "cv2.imshow(\"Galaxy\",img)\n",
    "#define a waitkey - which displays the image for specified milliseconds.\n",
    "cv2.waitKey(0)\n",
    "#Let user close the window by pressing any key\n",
    "cv2.destroyAllWindows()"
   ]
  },
  {
   "cell_type": "code",
   "execution_count": 8,
   "metadata": {},
   "outputs": [],
   "source": [
    "#Resizing the image - Remember to put extension with your file name while writing\n",
    "#resize_img = cv2.resize(img,(500,1000))\n",
    "resize_img = cv2.resize(img,(int(img.shape[1]/2),int(img.shape[0]/2)))\n",
    "cv2.imshow(\"Galaxy\",resize_img)\n",
    "cv2.imwrite(\"Galaxy_resized.jpg\",resize_img)\n",
    "cv2.waitKey(0)\n",
    "cv2.destroyAllWindows()"
   ]
  },
  {
   "cell_type": "markdown",
   "metadata": {},
   "source": [
    "# Batch image resizing"
   ]
  },
  {
   "cell_type": "code",
   "execution_count": 9,
   "metadata": {},
   "outputs": [],
   "source": [
    "import cv2\n",
    "import glob\n",
    "\n",
    "images=glob.glob(r\"C:\\Users\\Natasha Sharma\\Documents\\sample-images\\*.jpg\")\n",
    "\n",
    "for image in images:\n",
    "    img=cv2.imread(image,0)\n",
    "    re=cv2.resize(img,(100,100))\n",
    "    cv2.imshow(\"resize_image\",re)\n",
    "    cv2.waitKey(500)\n",
    "    cv2.destroyAllWindows()\n",
    "    cv2.imwrite(\"resized_\"+image,re)"
   ]
  }
 ],
 "metadata": {
  "kernelspec": {
   "display_name": "Python 3",
   "language": "python",
   "name": "python3"
  },
  "language_info": {
   "codemirror_mode": {
    "name": "ipython",
    "version": 3
   },
   "file_extension": ".py",
   "mimetype": "text/x-python",
   "name": "python",
   "nbconvert_exporter": "python",
   "pygments_lexer": "ipython3",
   "version": "3.6.4"
  }
 },
 "nbformat": 4,
 "nbformat_minor": 2
}
